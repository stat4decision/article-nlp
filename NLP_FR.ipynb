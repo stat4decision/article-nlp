{
 "cells": [
  {
   "cell_type": "markdown",
   "metadata": {},
   "source": [
    "# Traitement Automatique du Langage Naturel "
   ]
  },
  {
   "cell_type": "markdown",
   "metadata": {},
   "source": [
    "Notebook lié à l'article "
   ]
  },
  {
   "cell_type": "code",
   "execution_count": 3,
   "metadata": {},
   "outputs": [],
   "source": [
    "import spacy\n",
    "from spacy import displacy\n",
    "\n",
    "nlp = spacy.load(\"fr_core_news_sm\")"
   ]
  },
  {
   "cell_type": "code",
   "execution_count": 4,
   "metadata": {},
   "outputs": [],
   "source": [
    "test = \"Bouygues a eu une coupure de réseau à Marseille.\""
   ]
  },
  {
   "cell_type": "markdown",
   "metadata": {},
   "source": [
    "## 1. Tokenisation"
   ]
  },
  {
   "cell_type": "code",
   "execution_count": 5,
   "metadata": {},
   "outputs": [],
   "source": [
    "def return_token(sentence):\n",
    "    doc = nlp(sentence)\n",
    "    return [X.text for X in doc]"
   ]
  },
  {
   "cell_type": "code",
   "execution_count": 6,
   "metadata": {
    "scrolled": true
   },
   "outputs": [
    {
     "data": {
      "text/plain": [
       "['Bouygues',\n",
       " 'a',\n",
       " 'eu',\n",
       " 'une',\n",
       " 'coupure',\n",
       " 'de',\n",
       " 'réseau',\n",
       " 'à',\n",
       " 'Marseille',\n",
       " '.']"
      ]
     },
     "execution_count": 6,
     "metadata": {},
     "output_type": "execute_result"
    }
   ],
   "source": [
    "return_token(test)"
   ]
  },
  {
   "cell_type": "code",
   "execution_count": 8,
   "metadata": {},
   "outputs": [],
   "source": [
    "from nltk.corpus import stopwords\n",
    "stopWords = set(stopwords.words('french'))\n",
    "\n",
    "clean_words = []\n",
    "for token in return_token(test):\n",
    "    if token not in stopWords:\n",
    "        clean_words.append(token)"
   ]
  },
  {
   "cell_type": "code",
   "execution_count": 9,
   "metadata": {},
   "outputs": [
    {
     "name": "stdout",
     "output_type": "stream",
     "text": [
      "{'j', 'fûtes', 'c', 'étée', 'ta', 'eus', 'eût', 'avons', 'aurions', 'étante', 'par', 'ayants', 'ait', 'auraient', 'aie', 'auront', 'il', 'ai', 'nous', 'et', 'lui', 'eussiez', 'fus', 'mon', 'ses', 'étiez', 'qu', 'aurai', 'serais', 'fussent', 'suis', 'étés', 'seriez', 'es', 'avions', 'fussiez', 'eurent', 'nos', 'étant', 'eux', 'étantes', 's', 'son', 'une', 't', 'étais', 'en', 'aient', 'as', 'ayante', 'sont', 'eut', 'aurez', 'aurais', 'du', 'était', 'me', 'te', 'seras', 'fussions', 'tu', 'fûmes', 'eûmes', 'eûtes', 'fusse', 'aies', 'l', 'aurons', 'mes', 'même', 'ils', 'au', 'sommes', 'êtes', 'serions', 'votre', 'on', 'aurait', 'furent', 'vos', 'ayantes', 'soit', 'se', 'fût', 'qui', 'eusses', 'le', 'eussent', 'eu', 'ayant', 'la', 'ma', 'les', 'y', 'eue', 'sa', 'eusse', 'étaient', 'auras', 'étées', 'd', 'ne', 'ont', 'fut', 'des', 'seront', 'n', 'aux', 'soyons', 'été', 'dans', 'sois', 'serons', 'ce', 'ou', 'un', 'seraient', 'auriez', 'aviez', 'fusses', 'serait', 'soyez', 'aura', 'tes', 'de', 'ton', 'pour', 'serai', 'soient', 'serez', 'étions', 'sera', 'notre', 'eues', 'avait', 'leur', 'vous', 'je', 'que', 'à', 'm', 'ces', 'moi', 'est', 'avez', 'avaient', 'ayez', 'avais', 'ayons', 'toi', 'étants', 'mais', 'eussions', 'avec', 'elle', 'sur', 'pas'}\n"
     ]
    }
   ],
   "source": [
    "print(stopWords)"
   ]
  },
  {
   "cell_type": "code",
   "execution_count": 10,
   "metadata": {},
   "outputs": [
    {
     "name": "stdout",
     "output_type": "stream",
     "text": [
      "['Bouygues', 'a', 'coupure', 'réseau', 'Marseille', '.']\n"
     ]
    }
   ],
   "source": [
    "print(clean_words)"
   ]
  },
  {
   "cell_type": "markdown",
   "metadata": {},
   "source": [
    "## 2. Tokenisation de phrases"
   ]
  },
  {
   "cell_type": "code",
   "execution_count": 11,
   "metadata": {},
   "outputs": [],
   "source": [
    "def return_token_sent(sentence):\n",
    "    doc = nlp(sentence)\n",
    "    return [X.text for X in doc.sents]"
   ]
  },
  {
   "cell_type": "code",
   "execution_count": 12,
   "metadata": {},
   "outputs": [
    {
     "data": {
      "text/plain": [
       "['Bouygues a eu une coupure de réseau à Marseille.',\n",
       " 'La panne a affecté 300.000 utilisateurs.']"
      ]
     },
     "execution_count": 12,
     "metadata": {},
     "output_type": "execute_result"
    }
   ],
   "source": [
    "return_token_sent(\"Bouygues a eu une coupure de réseau à Marseille. La panne a affecté 300.000 utilisateurs.\")"
   ]
  },
  {
   "cell_type": "markdown",
   "metadata": {},
   "source": [
    "## 3. Lemmatisation"
   ]
  },
  {
   "cell_type": "code",
   "execution_count": 17,
   "metadata": {},
   "outputs": [
    {
     "data": {
      "text/plain": [
       "['bouygu', 'a', 'eu', 'une', 'coupur', 'de', 'réseau', 'à', 'marseil', '.']"
      ]
     },
     "execution_count": 17,
     "metadata": {},
     "output_type": "execute_result"
    }
   ],
   "source": [
    "from nltk.stem.snowball import SnowballStemmer\n",
    "stemmer = SnowballStemmer(language='french')\n",
    "\n",
    "def return_stem(sentence):\n",
    "    doc = nlp(sentence)\n",
    "    return [stemmer.stem(X.text) for X in doc]\n",
    "\n",
    "return_stem(test)"
   ]
  },
  {
   "cell_type": "markdown",
   "metadata": {},
   "source": [
    "## 4. Reconnaissance d'entités nommées (NER)"
   ]
  },
  {
   "cell_type": "code",
   "execution_count": 18,
   "metadata": {},
   "outputs": [],
   "source": [
    "def return_NER(sentence):\n",
    "    doc = nlp(sentence)\n",
    "    return [(X.text, X.label_) for X in doc.ents]"
   ]
  },
  {
   "cell_type": "code",
   "execution_count": 19,
   "metadata": {},
   "outputs": [
    {
     "data": {
      "text/plain": [
       "[('Bouygues', 'ORG'), ('Marseille', 'LOC')]"
      ]
     },
     "execution_count": 19,
     "metadata": {},
     "output_type": "execute_result"
    }
   ],
   "source": [
    "return_NER(test)"
   ]
  },
  {
   "cell_type": "code",
   "execution_count": 20,
   "metadata": {},
   "outputs": [
    {
     "data": {
      "text/html": [
       "<span class=\"tex2jax_ignore\"><!DOCTYPE html>\n",
       "<html lang=\"fr\">\n",
       "    <head>\n",
       "        <title>displaCy</title>\n",
       "    </head>\n",
       "\n",
       "    <body style=\"font-size: 16px; font-family: -apple-system, BlinkMacSystemFont, 'Segoe UI', Helvetica, Arial, sans-serif, 'Apple Color Emoji', 'Segoe UI Emoji', 'Segoe UI Symbol'; padding: 4rem 2rem; direction: ltr\">\n",
       "<figure style=\"margin-bottom: 6rem\">\n",
       "<div class=\"entities\" style=\"line-height: 2.5; direction: ltr\">\n",
       "<mark class=\"entity\" style=\"background: linear-gradient(90deg, #aa9cfc, #fc9ce7); padding: 0.45em 0.6em; margin: 0 0.25em; line-height: 1; border-radius: 0.35em;\">\n",
       "    Bouygues\n",
       "    <span style=\"font-size: 0.8em; font-weight: bold; line-height: 1; border-radius: 0.35em; vertical-align: middle; margin-left: 0.5rem\">ORG</span>\n",
       "</mark>\n",
       " a eu une coupure de réseau à Marseille.</div>\n",
       "</figure>\n",
       "</body>\n",
       "</html></span>"
      ],
      "text/plain": [
       "<IPython.core.display.HTML object>"
      ]
     },
     "metadata": {},
     "output_type": "display_data"
    },
    {
     "name": "stdout",
     "output_type": "stream",
     "text": [
      "\n",
      "Using the 'ent' visualizer\n",
      "Serving on http://0.0.0.0:5000 ...\n",
      "\n",
      "Shutting down server on port 5000.\n"
     ]
    }
   ],
   "source": [
    "doc = nlp(test)\n",
    "colors = {\"ORG\": \"linear-gradient(90deg, #aa9cfc, #fc9ce7)\"}\n",
    "options = {\"ents\": [\"ORG\"], \"colors\": colors}\n",
    "\n",
    "displacy.serve(doc, style=\"ent\", options=options)"
   ]
  },
  {
   "cell_type": "markdown",
   "metadata": {},
   "source": [
    "## 5. Part-of-Speech Tagging (POS)"
   ]
  },
  {
   "cell_type": "code",
   "execution_count": 21,
   "metadata": {},
   "outputs": [],
   "source": [
    "def return_POS(sentence):\n",
    "    doc = nlp(sentence)\n",
    "    return [(X, X.pos_) for X in doc]"
   ]
  },
  {
   "cell_type": "code",
   "execution_count": 22,
   "metadata": {
    "scrolled": true
   },
   "outputs": [
    {
     "data": {
      "text/plain": [
       "[(Bouygues, 'PROPN'),\n",
       " (a, 'AUX'),\n",
       " (eu, 'VERB'),\n",
       " (une, 'DET'),\n",
       " (coupure, 'NOUN'),\n",
       " (de, 'ADP'),\n",
       " (réseau, 'NOUN'),\n",
       " (à, 'ADP'),\n",
       " (Marseille, 'PROPN'),\n",
       " (., 'PUNCT')]"
      ]
     },
     "execution_count": 22,
     "metadata": {},
     "output_type": "execute_result"
    }
   ],
   "source": [
    "return_POS(test)"
   ]
  },
  {
   "cell_type": "code",
   "execution_count": 23,
   "metadata": {},
   "outputs": [
    {
     "data": {
      "text/html": [
       "<span class=\"tex2jax_ignore\"><!DOCTYPE html>\n",
       "<html lang=\"fr\">\n",
       "    <head>\n",
       "        <title>displaCy</title>\n",
       "    </head>\n",
       "\n",
       "    <body style=\"font-size: 16px; font-family: -apple-system, BlinkMacSystemFont, 'Segoe UI', Helvetica, Arial, sans-serif, 'Apple Color Emoji', 'Segoe UI Emoji', 'Segoe UI Symbol'; padding: 4rem 2rem; direction: ltr\">\n",
       "<figure style=\"margin-bottom: 6rem\">\n",
       "<svg xmlns=\"http://www.w3.org/2000/svg\" xmlns:xlink=\"http://www.w3.org/1999/xlink\" xml:lang=\"fr\" id=\"9f995bda811d43cc9800c8cfc85e6399-0\" class=\"displacy\" width=\"1625\" height=\"312.0\" direction=\"ltr\" style=\"max-width: none; height: 312.0px; color: #000000; background: #ffffff; font-family: Arial; direction: ltr\">\n",
       "<text class=\"displacy-token\" fill=\"currentColor\" text-anchor=\"middle\" y=\"222.0\">\n",
       "    <tspan class=\"displacy-word\" fill=\"currentColor\" x=\"50\">Bouygues</tspan>\n",
       "    <tspan class=\"displacy-tag\" dy=\"2em\" fill=\"currentColor\" x=\"50\">PROPN</tspan>\n",
       "</text>\n",
       "\n",
       "<text class=\"displacy-token\" fill=\"currentColor\" text-anchor=\"middle\" y=\"222.0\">\n",
       "    <tspan class=\"displacy-word\" fill=\"currentColor\" x=\"225\">a</tspan>\n",
       "    <tspan class=\"displacy-tag\" dy=\"2em\" fill=\"currentColor\" x=\"225\">AUX</tspan>\n",
       "</text>\n",
       "\n",
       "<text class=\"displacy-token\" fill=\"currentColor\" text-anchor=\"middle\" y=\"222.0\">\n",
       "    <tspan class=\"displacy-word\" fill=\"currentColor\" x=\"400\">eu</tspan>\n",
       "    <tspan class=\"displacy-tag\" dy=\"2em\" fill=\"currentColor\" x=\"400\">VERB</tspan>\n",
       "</text>\n",
       "\n",
       "<text class=\"displacy-token\" fill=\"currentColor\" text-anchor=\"middle\" y=\"222.0\">\n",
       "    <tspan class=\"displacy-word\" fill=\"currentColor\" x=\"575\">une</tspan>\n",
       "    <tspan class=\"displacy-tag\" dy=\"2em\" fill=\"currentColor\" x=\"575\">DET</tspan>\n",
       "</text>\n",
       "\n",
       "<text class=\"displacy-token\" fill=\"currentColor\" text-anchor=\"middle\" y=\"222.0\">\n",
       "    <tspan class=\"displacy-word\" fill=\"currentColor\" x=\"750\">coupure</tspan>\n",
       "    <tspan class=\"displacy-tag\" dy=\"2em\" fill=\"currentColor\" x=\"750\">NOUN</tspan>\n",
       "</text>\n",
       "\n",
       "<text class=\"displacy-token\" fill=\"currentColor\" text-anchor=\"middle\" y=\"222.0\">\n",
       "    <tspan class=\"displacy-word\" fill=\"currentColor\" x=\"925\">de</tspan>\n",
       "    <tspan class=\"displacy-tag\" dy=\"2em\" fill=\"currentColor\" x=\"925\">ADP</tspan>\n",
       "</text>\n",
       "\n",
       "<text class=\"displacy-token\" fill=\"currentColor\" text-anchor=\"middle\" y=\"222.0\">\n",
       "    <tspan class=\"displacy-word\" fill=\"currentColor\" x=\"1100\">réseau</tspan>\n",
       "    <tspan class=\"displacy-tag\" dy=\"2em\" fill=\"currentColor\" x=\"1100\">NOUN</tspan>\n",
       "</text>\n",
       "\n",
       "<text class=\"displacy-token\" fill=\"currentColor\" text-anchor=\"middle\" y=\"222.0\">\n",
       "    <tspan class=\"displacy-word\" fill=\"currentColor\" x=\"1275\">à</tspan>\n",
       "    <tspan class=\"displacy-tag\" dy=\"2em\" fill=\"currentColor\" x=\"1275\">ADP</tspan>\n",
       "</text>\n",
       "\n",
       "<text class=\"displacy-token\" fill=\"currentColor\" text-anchor=\"middle\" y=\"222.0\">\n",
       "    <tspan class=\"displacy-word\" fill=\"currentColor\" x=\"1450\">Marseille.</tspan>\n",
       "    <tspan class=\"displacy-tag\" dy=\"2em\" fill=\"currentColor\" x=\"1450\">PROPN</tspan>\n",
       "</text>\n",
       "\n",
       "<g class=\"displacy-arrow\">\n",
       "    <path class=\"displacy-arc\" id=\"arrow-9f995bda811d43cc9800c8cfc85e6399-0-0\" stroke-width=\"2px\" d=\"M70,177.0 C70,2.0 400.0,2.0 400.0,177.0\" fill=\"none\" stroke=\"currentColor\"/>\n",
       "    <text dy=\"1.25em\" style=\"font-size: 0.8em; letter-spacing: 1px\">\n",
       "        <textPath xlink:href=\"#arrow-9f995bda811d43cc9800c8cfc85e6399-0-0\" class=\"displacy-label\" startOffset=\"50%\" side=\"left\" fill=\"currentColor\" text-anchor=\"middle\">nsubj</textPath>\n",
       "    </text>\n",
       "    <path class=\"displacy-arrowhead\" d=\"M70,179.0 L62,167.0 78,167.0\" fill=\"currentColor\"/>\n",
       "</g>\n",
       "\n",
       "<g class=\"displacy-arrow\">\n",
       "    <path class=\"displacy-arc\" id=\"arrow-9f995bda811d43cc9800c8cfc85e6399-0-1\" stroke-width=\"2px\" d=\"M245,177.0 C245,89.5 395.0,89.5 395.0,177.0\" fill=\"none\" stroke=\"currentColor\"/>\n",
       "    <text dy=\"1.25em\" style=\"font-size: 0.8em; letter-spacing: 1px\">\n",
       "        <textPath xlink:href=\"#arrow-9f995bda811d43cc9800c8cfc85e6399-0-1\" class=\"displacy-label\" startOffset=\"50%\" side=\"left\" fill=\"currentColor\" text-anchor=\"middle\">aux:tense</textPath>\n",
       "    </text>\n",
       "    <path class=\"displacy-arrowhead\" d=\"M245,179.0 L237,167.0 253,167.0\" fill=\"currentColor\"/>\n",
       "</g>\n",
       "\n",
       "<g class=\"displacy-arrow\">\n",
       "    <path class=\"displacy-arc\" id=\"arrow-9f995bda811d43cc9800c8cfc85e6399-0-2\" stroke-width=\"2px\" d=\"M595,177.0 C595,89.5 745.0,89.5 745.0,177.0\" fill=\"none\" stroke=\"currentColor\"/>\n",
       "    <text dy=\"1.25em\" style=\"font-size: 0.8em; letter-spacing: 1px\">\n",
       "        <textPath xlink:href=\"#arrow-9f995bda811d43cc9800c8cfc85e6399-0-2\" class=\"displacy-label\" startOffset=\"50%\" side=\"left\" fill=\"currentColor\" text-anchor=\"middle\">det</textPath>\n",
       "    </text>\n",
       "    <path class=\"displacy-arrowhead\" d=\"M595,179.0 L587,167.0 603,167.0\" fill=\"currentColor\"/>\n",
       "</g>\n",
       "\n",
       "<g class=\"displacy-arrow\">\n",
       "    <path class=\"displacy-arc\" id=\"arrow-9f995bda811d43cc9800c8cfc85e6399-0-3\" stroke-width=\"2px\" d=\"M420,177.0 C420,2.0 750.0,2.0 750.0,177.0\" fill=\"none\" stroke=\"currentColor\"/>\n",
       "    <text dy=\"1.25em\" style=\"font-size: 0.8em; letter-spacing: 1px\">\n",
       "        <textPath xlink:href=\"#arrow-9f995bda811d43cc9800c8cfc85e6399-0-3\" class=\"displacy-label\" startOffset=\"50%\" side=\"left\" fill=\"currentColor\" text-anchor=\"middle\">obj</textPath>\n",
       "    </text>\n",
       "    <path class=\"displacy-arrowhead\" d=\"M750.0,179.0 L758.0,167.0 742.0,167.0\" fill=\"currentColor\"/>\n",
       "</g>\n",
       "\n",
       "<g class=\"displacy-arrow\">\n",
       "    <path class=\"displacy-arc\" id=\"arrow-9f995bda811d43cc9800c8cfc85e6399-0-4\" stroke-width=\"2px\" d=\"M945,177.0 C945,89.5 1095.0,89.5 1095.0,177.0\" fill=\"none\" stroke=\"currentColor\"/>\n",
       "    <text dy=\"1.25em\" style=\"font-size: 0.8em; letter-spacing: 1px\">\n",
       "        <textPath xlink:href=\"#arrow-9f995bda811d43cc9800c8cfc85e6399-0-4\" class=\"displacy-label\" startOffset=\"50%\" side=\"left\" fill=\"currentColor\" text-anchor=\"middle\">case</textPath>\n",
       "    </text>\n",
       "    <path class=\"displacy-arrowhead\" d=\"M945,179.0 L937,167.0 953,167.0\" fill=\"currentColor\"/>\n",
       "</g>\n",
       "\n",
       "<g class=\"displacy-arrow\">\n",
       "    <path class=\"displacy-arc\" id=\"arrow-9f995bda811d43cc9800c8cfc85e6399-0-5\" stroke-width=\"2px\" d=\"M770,177.0 C770,2.0 1100.0,2.0 1100.0,177.0\" fill=\"none\" stroke=\"currentColor\"/>\n",
       "    <text dy=\"1.25em\" style=\"font-size: 0.8em; letter-spacing: 1px\">\n",
       "        <textPath xlink:href=\"#arrow-9f995bda811d43cc9800c8cfc85e6399-0-5\" class=\"displacy-label\" startOffset=\"50%\" side=\"left\" fill=\"currentColor\" text-anchor=\"middle\">nmod</textPath>\n",
       "    </text>\n",
       "    <path class=\"displacy-arrowhead\" d=\"M1100.0,179.0 L1108.0,167.0 1092.0,167.0\" fill=\"currentColor\"/>\n",
       "</g>\n",
       "\n",
       "<g class=\"displacy-arrow\">\n",
       "    <path class=\"displacy-arc\" id=\"arrow-9f995bda811d43cc9800c8cfc85e6399-0-6\" stroke-width=\"2px\" d=\"M1295,177.0 C1295,89.5 1445.0,89.5 1445.0,177.0\" fill=\"none\" stroke=\"currentColor\"/>\n",
       "    <text dy=\"1.25em\" style=\"font-size: 0.8em; letter-spacing: 1px\">\n",
       "        <textPath xlink:href=\"#arrow-9f995bda811d43cc9800c8cfc85e6399-0-6\" class=\"displacy-label\" startOffset=\"50%\" side=\"left\" fill=\"currentColor\" text-anchor=\"middle\">case</textPath>\n",
       "    </text>\n",
       "    <path class=\"displacy-arrowhead\" d=\"M1295,179.0 L1287,167.0 1303,167.0\" fill=\"currentColor\"/>\n",
       "</g>\n",
       "\n",
       "<g class=\"displacy-arrow\">\n",
       "    <path class=\"displacy-arc\" id=\"arrow-9f995bda811d43cc9800c8cfc85e6399-0-7\" stroke-width=\"2px\" d=\"M1120,177.0 C1120,2.0 1450.0,2.0 1450.0,177.0\" fill=\"none\" stroke=\"currentColor\"/>\n",
       "    <text dy=\"1.25em\" style=\"font-size: 0.8em; letter-spacing: 1px\">\n",
       "        <textPath xlink:href=\"#arrow-9f995bda811d43cc9800c8cfc85e6399-0-7\" class=\"displacy-label\" startOffset=\"50%\" side=\"left\" fill=\"currentColor\" text-anchor=\"middle\">nmod</textPath>\n",
       "    </text>\n",
       "    <path class=\"displacy-arrowhead\" d=\"M1450.0,179.0 L1458.0,167.0 1442.0,167.0\" fill=\"currentColor\"/>\n",
       "</g>\n",
       "</svg>\n",
       "</figure>\n",
       "</body>\n",
       "</html></span>"
      ],
      "text/plain": [
       "<IPython.core.display.HTML object>"
      ]
     },
     "metadata": {},
     "output_type": "display_data"
    },
    {
     "name": "stdout",
     "output_type": "stream",
     "text": [
      "\n",
      "Using the 'dep' visualizer\n",
      "Serving on http://0.0.0.0:5000 ...\n",
      "\n",
      "Shutting down server on port 5000.\n"
     ]
    }
   ],
   "source": [
    "from spacy import displacy\n",
    "\n",
    "doc = nlp(test)\n",
    "displacy.serve(doc, style=\"dep\")"
   ]
  },
  {
   "cell_type": "markdown",
   "metadata": {},
   "source": [
    "## 6. Embedding par mot"
   ]
  },
  {
   "cell_type": "code",
   "execution_count": 24,
   "metadata": {},
   "outputs": [],
   "source": [
    "import numpy as np\n",
    "\n",
    "def return_word_embedding(sentence):\n",
    "    doc = nlp(sentence)\n",
    "    return [(X.tensor) for X in doc]"
   ]
  },
  {
   "cell_type": "code",
   "execution_count": 25,
   "metadata": {},
   "outputs": [
    {
     "data": {
      "text/plain": [
       "[array([-1.6346099 , -0.5649567 , -1.9408679 , -2.813146  , -0.10111822,\n",
       "        -3.530174  ,  2.1561453 , -4.919579  ,  0.32698557,  1.0308661 ,\n",
       "         2.2153058 ,  0.7172387 , -8.715832  , -1.0822319 , -0.29062498,\n",
       "        -1.5783455 , -2.3651779 , -2.728358  , -0.86396784,  0.92594165,\n",
       "        -2.9402206 ,  9.626809  ,  3.6982553 ,  2.3619318 , -3.4923077 ,\n",
       "        -3.007491  ,  0.6268473 ,  0.74501777,  0.10165483, -2.073378  ,\n",
       "        -6.022312  , -3.268891  ,  1.3297336 , -0.02227807,  6.210668  ,\n",
       "         5.510391  , -3.3060744 ,  6.059071  ,  8.359106  ,  1.2666026 ,\n",
       "        -2.4710221 ,  1.2002287 , -2.1460958 ,  1.1080242 , -0.47597623,\n",
       "        -3.48144   , -0.3286002 , -2.6209486 ,  2.7624912 , -3.1821744 ,\n",
       "         0.70762277, -5.4075885 , -0.43672955, -1.1972885 ,  1.9135561 ,\n",
       "        -4.791294  ,  1.8234208 ,  2.8430328 ,  2.995939  , -3.0965562 ,\n",
       "        -0.8349128 ,  0.7072923 , -3.1008275 ,  2.5546198 ,  5.942214  ,\n",
       "        -1.4530498 ,  2.4120169 , -2.190457  , -1.3141768 ,  2.9625702 ,\n",
       "        -3.0723946 , -1.9993814 ,  2.6695242 , -2.2199118 ,  6.693364  ,\n",
       "         4.5680313 ,  1.703071  ,  1.1185465 ,  3.6902947 ,  0.20951815,\n",
       "         1.6912531 ,  1.8172811 ,  0.05466747, -5.0575676 , -2.3284264 ,\n",
       "         6.0243735 , -4.705908  , -2.3805985 ,  4.599189  ,  1.0277064 ,\n",
       "         0.35238388,  1.0811713 , -3.5578234 , -0.7116647 ,  1.4255068 ,\n",
       "        -0.29041106], dtype=float32),\n",
       " array([-3.4463038 , -0.7990986 , -3.415479  ,  1.2070841 , -0.6919837 ,\n",
       "        -0.9731166 ,  1.3672113 , -1.8531281 , -5.894887  ,  2.2831473 ,\n",
       "         4.985729  ,  4.8680706 ,  2.3927836 , -1.9813966 ,  2.3972743 ,\n",
       "        -4.100865  ,  6.5893345 ,  0.2803304 , -1.512512  , -4.2842875 ,\n",
       "        -3.8762722 ,  1.932539  ,  0.11694694, -3.9106565 , 12.73805   ,\n",
       "         1.2966837 , -0.01279044,  1.9929969 , -1.9252101 ,  3.0994427 ,\n",
       "        -3.940071  , -1.6160687 , -4.137141  ,  3.572694  , -0.6361712 ,\n",
       "         0.06652582, -2.776464  , -0.02036446, -5.149591  , -1.7645972 ,\n",
       "         4.1934137 , -1.572477  , -5.103414  , -0.1962012 ,  2.5410576 ,\n",
       "        -6.268387  ,  2.09413   ,  6.4469776 ,  1.0461841 , -2.027321  ,\n",
       "         2.796205  , -3.5149455 , -1.4691505 ,  1.0125775 ,  7.182621  ,\n",
       "        -0.5054708 , -0.31891263, -2.1238437 ,  3.179259  , -1.5041821 ,\n",
       "         6.1768756 , -3.7185333 ,  6.171882  ,  0.53775   , -4.147693  ,\n",
       "         3.0179758 , -0.49276248,  5.1764555 ,  2.3834002 ,  1.2403979 ,\n",
       "        -5.2679143 , -4.2646294 , -1.5016117 ,  1.0483626 , -0.8671224 ,\n",
       "        -3.269269  ,  3.9539583 , -3.0549028 , -3.8951805 ,  0.5888694 ,\n",
       "        -1.0624455 ,  2.315818  , -3.8538585 ,  3.362843  ,  3.257811  ,\n",
       "        -2.9574697 , -1.5970079 , -4.1696854 , -1.4782302 , -1.1335415 ,\n",
       "        -0.143143  , -5.2106314 ,  1.6701655 ,  3.6012955 ,  5.66516   ,\n",
       "         2.6053758 ], dtype=float32),\n",
       " array([ 3.699079  ,  3.8561735 , -2.11811   ,  0.6779078 , -1.0960736 ,\n",
       "        -2.0374298 , -1.137897  , -1.4005859 ,  0.7364915 ,  2.1221232 ,\n",
       "         5.536455  , -4.2395124 ,  0.38929415,  7.956637  , -2.469582  ,\n",
       "        -0.52454656,  0.9417589 , -3.706793  , -5.157954  , -4.7325153 ,\n",
       "        -2.6813097 , -2.0624766 , -8.939568  ,  0.02064908, -2.6285334 ,\n",
       "        -2.1061316 , -3.5901546 ,  8.811838  ,  1.4581071 ,  0.94079024,\n",
       "        -3.853322  ,  5.4884315 ,  5.368439  , -0.30925024, -1.1633195 ,\n",
       "         0.93296576, -1.4564784 , -3.81699   ,  0.8694291 , -0.64289176,\n",
       "        -0.81138945, -6.007785  ,  1.4261637 , -5.5067835 ,  0.17544335,\n",
       "         1.5624584 ,  1.1056354 , -0.5283021 , -1.5959425 , -4.6374164 ,\n",
       "        -1.2511955 , -2.072475  , -2.6776435 ,  2.0384881 , -6.8998013 ,\n",
       "         3.275572  , -3.627523  , -1.1473246 ,  2.0903196 ,  4.1199303 ,\n",
       "         1.329794  ,  8.228798  , -2.6104176 ,  3.5182776 ,  6.781277  ,\n",
       "         1.7338836 , -1.2199423 ,  4.9691277 ,  6.8776045 ,  3.3657818 ,\n",
       "         4.479546  ,  6.684051  ,  1.1967311 ,  0.10996002,  3.5541961 ,\n",
       "        -5.0016947 , -3.258831  ,  2.8553762 , -1.9229144 ,  3.5114639 ,\n",
       "        -1.7918878 , -2.154997  ,  0.42152584,  0.92481637, -1.2664443 ,\n",
       "         1.1551919 , -0.7758826 , -2.880519  , -4.438019  , -1.7678593 ,\n",
       "        -1.8017546 , -1.2383813 ,  2.8813126 , -0.62055004, -1.0536771 ,\n",
       "         2.068698  ], dtype=float32),\n",
       " array([ 4.6719456 , -3.0020971 ,  6.07905   ,  6.8587    , -4.766601  ,\n",
       "         0.6180454 ,  3.2676873 ,  1.9539238 , -3.953971  ,  3.2784615 ,\n",
       "        -1.2397028 ,  0.16048709, -0.9431627 , -0.06638485,  1.9012645 ,\n",
       "        -2.5592554 ,  1.9572815 ,  3.8949966 , -1.6643436 ,  4.002311  ,\n",
       "        -3.4512436 , -1.0303516 ,  0.56368476, -6.195849  , -0.4563378 ,\n",
       "        -0.6065286 , -1.5407808 , -3.9157846 , -3.5041473 , -0.08424675,\n",
       "        -0.7016563 , -0.88107115, -6.220415  , -7.456559  ,  0.23610556,\n",
       "         0.01204261, -4.303651  , -1.4589756 ,  3.8458438 ,  5.662881  ,\n",
       "        -3.5952525 ,  7.0498414 ,  0.11172462, -2.0158267 ,  3.1432362 ,\n",
       "         0.04785451, -4.17737   ,  2.7092578 , -3.9351177 ,  6.0926704 ,\n",
       "         3.5943518 ,  2.7311606 , -4.0540977 ,  1.797646  , -3.7978542 ,\n",
       "         0.17951056, -3.8190103 ,  2.9479384 , -1.673324  , -4.6432323 ,\n",
       "        -6.584801  , -2.7129622 ,  1.0220331 , -0.9797289 , -3.261656  ,\n",
       "        -2.0167255 , -0.3028733 ,  0.3824966 , -0.86501503,  4.5674887 ,\n",
       "        -3.8226833 ,  0.7418498 , -1.421782  ,  6.171268  , -1.099263  ,\n",
       "        -1.1473454 ,  0.30181086,  1.880169  ,  2.7345123 ,  6.960844  ,\n",
       "         4.3294716 , 10.562275  ,  3.422741  , -0.62919   ,  1.9293615 ,\n",
       "        -0.6755444 , -3.0847192 ,  0.5186927 ,  3.103304  , -0.41827205,\n",
       "         1.1435188 ,  4.484579  , -4.0836625 ,  0.4738903 , -1.8039737 ,\n",
       "        -5.860311  ], dtype=float32),\n",
       " array([ 3.8844395 ,  0.06867814, -1.5262814 , -1.1322298 , -0.4349348 ,\n",
       "        -1.7605908 , -6.6598334 , -2.4842014 , -2.043962  , -1.1893754 ,\n",
       "        -0.4388896 , -0.09201145, -0.87102616,  4.851204  , -0.4647696 ,\n",
       "         0.88446885, -0.48043048, -2.5257516 , -3.5051098 ,  5.1575136 ,\n",
       "        -5.6580486 ,  4.9881964 ,  0.3915868 , -0.5735903 ,  0.4990195 ,\n",
       "        -5.027751  , -2.5623114 ,  1.276983  ,  5.2712693 , -3.008836  ,\n",
       "         0.12508166, -1.9428093 ,  1.958293  , -0.7619498 ,  3.6641934 ,\n",
       "         2.0623047 , -5.4035115 , -1.9068811 , -2.3916018 , -3.8070152 ,\n",
       "        -0.9556245 ,  1.9685014 , -0.719069  ,  4.219962  , -0.3570658 ,\n",
       "        -2.103846  , -5.29832   , -4.252282  , -2.4776416 , -2.6689112 ,\n",
       "         0.3501116 ,  0.35189253,  2.199949  , -5.3190236 ,  5.8433685 ,\n",
       "        -1.5004151 , -1.4879115 , -0.4301386 ,  1.5443937 ,  4.543644  ,\n",
       "         0.4031402 , -2.7357044 , -3.5702877 , -0.6564293 ,  8.736288  ,\n",
       "         2.2171192 ,  3.557399  ,  3.044896  , -2.0463586 ,  2.6682649 ,\n",
       "         3.8991728 , -0.07781566,  1.4745038 , -0.19803578,  2.7829905 ,\n",
       "        -0.31798363, -1.2695735 ,  0.6084273 ,  6.4774876 ,  1.359973  ,\n",
       "        -0.55863917,  6.787565  , -1.6447303 , -1.5415627 ,  2.096223  ,\n",
       "         3.9576237 ,  5.938986  , -1.226916  , -3.1881588 , -0.11780128,\n",
       "        -8.0676365 , -0.3074274 ,  5.356364  ,  0.93387187, -3.571735  ,\n",
       "        -2.5482874 ], dtype=float32),\n",
       " array([ 2.43266   , -1.4224182 , -1.968953  , -2.7529788 ,  3.2244248 ,\n",
       "         2.904653  ,  4.698098  ,  4.128698  ,  3.0095005 ,  7.60272   ,\n",
       "        -4.138436  ,  1.1155076 ,  1.0706387 ,  1.1596221 , -1.6974748 ,\n",
       "        -3.466365  ,  0.7345413 ,  1.6666948 ,  1.2505316 ,  0.57544917,\n",
       "        -3.0037477 ,  0.6862397 ,  5.3116226 , -4.0540743 ,  1.1919187 ,\n",
       "         1.8694718 ,  4.165361  ,  1.0401789 ,  1.9238447 ,  6.0436177 ,\n",
       "        -1.9307294 , -5.312233  ,  0.18703929, -2.5821927 , -1.4474232 ,\n",
       "        -1.051119  , -2.0666397 , -1.905926  , -5.083973  , -4.469392  ,\n",
       "        -2.9872794 , -3.4257853 , -2.5486002 , -3.2251792 ,  3.3021507 ,\n",
       "        -1.241907  , -2.743736  ,  1.2980785 ,  0.61680615,  3.393365  ,\n",
       "        -4.817274  ,  1.1891756 , -3.1356852 ,  1.9706839 ,  0.36343956,\n",
       "        -2.2023675 ,  0.0861491 ,  0.3383565 , -5.08972   ,  0.9181878 ,\n",
       "         2.3562124 , -4.2388372 , -3.20151   , -3.102783  , -1.0326555 ,\n",
       "        -1.3014642 ,  6.162924  , -0.9284221 ,  4.314695  , -1.5902696 ,\n",
       "        -0.6812186 , -3.7917976 , -2.898949  ,  1.7899354 ,  0.9081835 ,\n",
       "         1.3681178 ,  2.9651103 , -7.0417724 , -6.6733074 , -0.7982565 ,\n",
       "         4.2128544 ,  6.8694415 , -1.9913219 , -0.63244355, -0.46890476,\n",
       "        -4.027942  ,  3.0790887 , -2.6043806 ,  0.9213148 ,  2.4903867 ,\n",
       "         7.2472486 , -2.677917  ,  6.472036  , -1.217232  ,  6.8026896 ,\n",
       "        -0.73841786], dtype=float32),\n",
       " array([-6.6611922e-01,  1.3596827e+00,  4.8691778e+00,  5.9225826e+00,\n",
       "         3.1470621e+00,  4.2494774e+00, -1.0062212e+00,  5.1818295e+00,\n",
       "         4.9357611e-01, -3.8614202e+00, -5.4186583e-03, -6.1190901e+00,\n",
       "        -1.1963078e+00,  1.5511749e+00, -3.7031770e-01,  1.8087848e+00,\n",
       "        -3.7359588e+00, -5.2004480e+00, -3.8120756e+00,  4.7621007e+00,\n",
       "         4.2272906e+00,  3.4990209e-01, -2.7179489e+00, -1.3859107e+00,\n",
       "        -1.8807069e+00, -3.5679049e+00, -8.0164087e-01,  9.8594522e-01,\n",
       "         1.4871287e+00, -5.5180116e+00,  1.1680092e+00, -5.9191400e-01,\n",
       "         1.9417071e+00, -3.4179921e+00,  7.1324062e+00,  3.6712480e+00,\n",
       "        -3.4843173e+00, -2.9911768e+00, -5.8423901e-01,  5.2266514e-01,\n",
       "        -6.5939627e+00,  9.4792187e-01, -5.9027135e-01,  7.7973616e-01,\n",
       "        -4.0138796e-01,  5.7368670e+00, -6.8201828e-01, -3.6600277e+00,\n",
       "        -5.4475975e+00,  2.2091162e-01,  1.4430482e+00, -6.8401694e-01,\n",
       "         8.9381814e-01, -3.4126792e+00,  5.5044370e+00, -1.8742146e+00,\n",
       "        -1.8617904e+00, -2.4764860e-01,  2.8612628e+00,  3.8337231e+00,\n",
       "         5.1095289e-01, -8.0919784e-01, -3.4441783e+00, -4.2987547e+00,\n",
       "         4.1470551e+00,  1.7888682e+00, -7.8543717e-01, -3.1357402e-01,\n",
       "        -1.0321865e+00,  2.1166897e+00, -1.0724487e+00,  1.2660689e+00,\n",
       "         1.4329040e+00,  2.0565003e-01,  4.8022442e+00, -1.0420208e+00,\n",
       "        -1.8853409e+00, -3.2357335e+00,  3.2419989e+00, -1.2726301e+00,\n",
       "        -3.7996097e+00,  5.6957269e-01,  6.4133453e+00, -3.2563736e+00,\n",
       "         5.3885388e-01,  5.1511264e+00, -1.9295055e+00, -8.1731492e-01,\n",
       "        -1.8545959e+00,  2.3927224e-01,  1.7747036e+00, -3.3464632e+00,\n",
       "         4.0316801e+00,  2.4016521e+00, -7.2652960e-01, -3.5788760e+00],\n",
       "       dtype=float32),\n",
       " array([ 2.9245224 , -0.468552  ,  6.4825425 , -1.2615504 ,  1.9053807 ,\n",
       "        -0.9808845 ,  2.583569  ,  6.0700474 ,  2.2775285 ,  4.3599234 ,\n",
       "        -0.18253717, -1.4621532 ,  0.6408875 , -4.493326  , -6.2238717 ,\n",
       "        -4.3416667 ,  4.567895  ,  2.4904778 ,  6.0851674 , -0.8022597 ,\n",
       "        -3.5281143 ,  7.791255  ,  1.8761437 , -4.4955053 ,  0.82177275,\n",
       "        -0.27793717,  2.1669412 , -2.0618837 ,  1.4526304 ,  2.8651185 ,\n",
       "        -2.8595238 , -2.8753557 , -0.04949683, -1.6727047 ,  3.592896  ,\n",
       "        -1.9273217 , -2.6998289 , -2.4506178 , -1.6692892 ,  0.21760109,\n",
       "        -2.1624522 , -1.4339154 , -2.290997  , -5.755949  ,  2.1903324 ,\n",
       "         4.455464  , -4.4535913 ,  1.379376  , -1.465993  ,  3.1345267 ,\n",
       "        -6.881953  ,  2.965275  , -4.1645346 ,  3.520906  ,  3.559442  ,\n",
       "        -2.4069889 , -2.0756242 , -1.502429  ,  1.0679095 , -1.7662776 ,\n",
       "         2.341948  , -1.2440023 , -5.0065904 , -2.6334424 , -3.9015222 ,\n",
       "         2.3334072 ,  6.551009  , -0.7667922 ,  3.41774   , -2.8830373 ,\n",
       "        -4.2765026 , -0.5595942 , -1.8782022 , -2.4424262 , -0.23063485,\n",
       "         2.4678655 ,  2.0397048 , -5.3637023 , -0.46987808, -3.2224972 ,\n",
       "         3.7677832 ,  3.7100263 , -1.202944  ,  0.8815892 ,  1.6171044 ,\n",
       "        -4.2080913 ,  2.6477866 , -0.9158534 , -1.9168794 ,  6.3170357 ,\n",
       "        -1.3908205 , -2.2214556 ,  6.6711073 , -0.10788856,  2.187415  ,\n",
       "        -1.9994242 ], dtype=float32),\n",
       " array([-5.084694  ,  4.2632647 , -1.1150703 ,  2.4559746 ,  1.7654293 ,\n",
       "         2.6694503 ,  5.399466  ,  2.0831761 , -3.768533  ,  1.3095784 ,\n",
       "        -0.10404873, -5.063534  , -1.7367549 ,  2.6327715 , -3.7933974 ,\n",
       "         1.7956774 , -1.773978  , -0.21050656, -3.1864996 , -0.9757349 ,\n",
       "        -3.6658072 ,  4.808156  ,  1.3834    , -1.1607097 , -3.157703  ,\n",
       "        -5.301843  ,  2.223701  , -0.20439535, -2.1513574 , -3.096068  ,\n",
       "        -2.040918  ,  1.4212667 , -4.12482   , -2.9904342 ,  6.554661  ,\n",
       "         8.021503  ,  0.30590534,  6.9253206 , -2.29606   , -1.1780158 ,\n",
       "         0.22651705,  6.843163  ,  1.9353691 , -1.4680505 , -4.112383  ,\n",
       "         4.135752  , -0.9591321 , -4.113623  ,  0.8899767 , -0.0626241 ,\n",
       "        -4.00456   ,  2.0576606 , -2.653186  , -2.986155  ,  6.3259554 ,\n",
       "        -2.6460047 , -2.8988128 ,  4.557492  ,  2.8200538 , -1.3943393 ,\n",
       "        -1.3604978 , -1.6922052 , -2.3823879 ,  0.39561486,  8.9180355 ,\n",
       "         0.73911804,  3.8114164 , -0.46612054, -1.042106  ,  0.27342653,\n",
       "        -1.1882286 ,  0.5112086 ,  2.5578756 , -4.980418  ,  3.1742911 ,\n",
       "         0.15313041, -2.803955  , -1.2457478 ,  1.8030622 , -3.3490357 ,\n",
       "         1.5248137 ,  0.5215779 ,  0.26250553, -6.02425   , -1.9374405 ,\n",
       "         2.7781026 , -6.6000943 ,  3.7266133 , -0.5174812 ,  3.8397443 ,\n",
       "        -1.5853271 , -3.7090425 , -3.1067448 ,  0.42155817,  2.9121532 ,\n",
       "         2.9396915 ], dtype=float32),\n",
       " array([-1.9189669 , -1.7362833 , -0.6927217 , -2.7103627 ,  1.4591361 ,\n",
       "         3.7762232 , -1.3639469 , -2.986572  ,  2.7225883 ,  1.4419107 ,\n",
       "         0.03745452, -2.6701136 , -1.323036  ,  4.041133  , -2.72002   ,\n",
       "        -3.9149337 ,  0.6631582 , -5.2065916 , -3.0396955 , -3.0858722 ,\n",
       "         9.955431  ,  3.1925597 ,  0.05524051,  4.0794563 , -2.7527144 ,\n",
       "         1.4348712 ,  5.8618317 , -0.1467194 , -1.1405835 ,  0.15393287,\n",
       "         5.9306927 , -4.72393   ,  1.2232753 ,  1.5697765 ,  1.7766783 ,\n",
       "        -1.3265285 ,  0.5247506 ,  2.5397763 , -1.6789944 ,  4.009416  ,\n",
       "         4.215274  ,  0.6318672 ,  1.3151275 ,  8.142809  ,  2.1269646 ,\n",
       "        -3.4275236 ,  7.1554904 ,  4.784136  ,  0.5546701 , -1.3588564 ,\n",
       "         2.524151  ,  1.6506306 ,  4.435498  ,  1.3678219 ,  1.5908589 ,\n",
       "        -1.0111825 ,  1.4004663 ,  1.2460831 , -3.983701  , -0.41448724,\n",
       "        -1.8294663 ,  0.88750815, -6.1367073 , -1.7163787 , -4.1880617 ,\n",
       "        -0.6140246 , -2.775619  , -0.68414664, -0.34813678, -4.169576  ,\n",
       "         1.8523848 , -1.9228061 , -0.38981134, -3.5410218 , -2.5729146 ,\n",
       "        -4.3189335 , -2.8669555 ,  6.0047164 ,  1.3298371 ,  1.0653607 ,\n",
       "        -3.521496  , -2.597703  , -7.006049  , -0.34776235, -0.46942985,\n",
       "         3.4808073 ,  2.515789  ,  5.5121365 , -6.3020625 , -0.25228894,\n",
       "        -0.55451024, -5.7477565 ,  0.9527266 , -2.8497298 , -0.60983264,\n",
       "        -1.1767068 ], dtype=float32)]"
      ]
     },
     "execution_count": 25,
     "metadata": {},
     "output_type": "execute_result"
    }
   ],
   "source": [
    "return_word_embedding(test)"
   ]
  },
  {
   "cell_type": "markdown",
   "metadata": {},
   "source": [
    "## 7. Similarités entre phrases"
   ]
  },
  {
   "cell_type": "code",
   "execution_count": 26,
   "metadata": {},
   "outputs": [],
   "source": [
    "def return_mean_embedding(sentence):\n",
    "    doc = nlp(sentence)\n",
    "    return np.mean([(X.vector) for X in doc], axis=0)"
   ]
  },
  {
   "cell_type": "code",
   "execution_count": 27,
   "metadata": {},
   "outputs": [],
   "source": [
    "test_2 = \"Le réseau sera bientot rétabli à Marseille\"\n",
    "test_3 = \"La panne réseau affecte plusieurs utilisateurs de l'opérateur\"\n",
    "test_4 = \"Il fait 18 degrés ici\""
   ]
  },
  {
   "cell_type": "code",
   "execution_count": 28,
   "metadata": {},
   "outputs": [
    {
     "data": {
      "text/plain": [
       "11.860769"
      ]
     },
     "execution_count": 28,
     "metadata": {},
     "output_type": "execute_result"
    }
   ],
   "source": [
    "np.linalg.norm(return_mean_embedding(test)-return_mean_embedding(test_2))"
   ]
  },
  {
   "cell_type": "code",
   "execution_count": 29,
   "metadata": {},
   "outputs": [
    {
     "data": {
      "text/plain": [
       "12.083751"
      ]
     },
     "execution_count": 29,
     "metadata": {},
     "output_type": "execute_result"
    }
   ],
   "source": [
    "np.linalg.norm(return_mean_embedding(test)-return_mean_embedding(test_3))"
   ]
  },
  {
   "cell_type": "code",
   "execution_count": 30,
   "metadata": {},
   "outputs": [
    {
     "data": {
      "text/plain": [
       "19.62302"
      ]
     },
     "execution_count": 30,
     "metadata": {},
     "output_type": "execute_result"
    }
   ],
   "source": [
    "np.linalg.norm(return_mean_embedding(test)-return_mean_embedding(test_4))"
   ]
  },
  {
   "cell_type": "markdown",
   "metadata": {},
   "source": [
    "## 8. Transformers pour prédire la prochaine phrase"
   ]
  },
  {
   "cell_type": "code",
   "execution_count": 31,
   "metadata": {},
   "outputs": [],
   "source": [
    "import torch"
   ]
  },
  {
   "cell_type": "code",
   "execution_count": 32,
   "metadata": {
    "scrolled": true
   },
   "outputs": [
    {
     "name": "stderr",
     "output_type": "stream",
     "text": [
      "c:\\Users\\ej\\miniconda3\\envs\\nlp\\Lib\\site-packages\\tqdm\\auto.py:21: TqdmWarning: IProgress not found. Please update jupyter and ipywidgets. See https://ipywidgets.readthedocs.io/en/stable/user_install.html\n",
      "  from .autonotebook import tqdm as notebook_tqdm\n"
     ]
    },
    {
     "data": {
      "text/plain": [
       "BertForNextSentencePrediction(\n",
       "  (bert): BertModel(\n",
       "    (embeddings): BertEmbeddings(\n",
       "      (word_embeddings): Embedding(119547, 768, padding_idx=0)\n",
       "      (position_embeddings): Embedding(512, 768)\n",
       "      (token_type_embeddings): Embedding(2, 768)\n",
       "      (LayerNorm): LayerNorm((768,), eps=1e-12, elementwise_affine=True)\n",
       "      (dropout): Dropout(p=0.1, inplace=False)\n",
       "    )\n",
       "    (encoder): BertEncoder(\n",
       "      (layer): ModuleList(\n",
       "        (0-11): 12 x BertLayer(\n",
       "          (attention): BertAttention(\n",
       "            (self): BertSelfAttention(\n",
       "              (query): Linear(in_features=768, out_features=768, bias=True)\n",
       "              (key): Linear(in_features=768, out_features=768, bias=True)\n",
       "              (value): Linear(in_features=768, out_features=768, bias=True)\n",
       "              (dropout): Dropout(p=0.1, inplace=False)\n",
       "            )\n",
       "            (output): BertSelfOutput(\n",
       "              (dense): Linear(in_features=768, out_features=768, bias=True)\n",
       "              (LayerNorm): LayerNorm((768,), eps=1e-12, elementwise_affine=True)\n",
       "              (dropout): Dropout(p=0.1, inplace=False)\n",
       "            )\n",
       "          )\n",
       "          (intermediate): BertIntermediate(\n",
       "            (dense): Linear(in_features=768, out_features=3072, bias=True)\n",
       "            (intermediate_act_fn): GELUActivation()\n",
       "          )\n",
       "          (output): BertOutput(\n",
       "            (dense): Linear(in_features=3072, out_features=768, bias=True)\n",
       "            (LayerNorm): LayerNorm((768,), eps=1e-12, elementwise_affine=True)\n",
       "            (dropout): Dropout(p=0.1, inplace=False)\n",
       "          )\n",
       "        )\n",
       "      )\n",
       "    )\n",
       "    (pooler): BertPooler(\n",
       "      (dense): Linear(in_features=768, out_features=768, bias=True)\n",
       "      (activation): Tanh()\n",
       "    )\n",
       "  )\n",
       "  (cls): BertOnlyNSPHead(\n",
       "    (seq_relationship): Linear(in_features=768, out_features=2, bias=True)\n",
       "  )\n",
       ")"
      ]
     },
     "execution_count": 32,
     "metadata": {},
     "output_type": "execute_result"
    }
   ],
   "source": [
    "from transformers import BertTokenizer,BertForNextSentencePrediction\n",
    "\n",
    "tokenizer = BertTokenizer.from_pretrained('bert-base-multilingual-cased')\n",
    "model = BertForNextSentencePrediction.from_pretrained('bert-base-multilingual-cased')\n",
    "model.eval()"
   ]
  },
  {
   "cell_type": "code",
   "execution_count": 33,
   "metadata": {},
   "outputs": [],
   "source": [
    "text = \"Comment ça va ? Bien merci, un peu stressé avant l'examen\"\n",
    "\n",
    "tokenized_text = tokenizer.tokenize(text)\n",
    "indexed_tokens = tokenizer.convert_tokens_to_ids(tokenized_text)\n",
    "segments_ids = [0, 0, 0, 0, 0, 1, 1, 1, 1, 1, 1, 1, 1, 1, 1]"
   ]
  },
  {
   "cell_type": "code",
   "execution_count": 34,
   "metadata": {},
   "outputs": [],
   "source": [
    "tokens_tensor = torch.tensor([indexed_tokens])\n",
    "segments_tensors = torch.tensor([segments_ids])"
   ]
  },
  {
   "cell_type": "code",
   "execution_count": 35,
   "metadata": {
    "scrolled": false
   },
   "outputs": [],
   "source": [
    "predictions = model(tokens_tensor, segments_tensors)"
   ]
  },
  {
   "cell_type": "code",
   "execution_count": 36,
   "metadata": {},
   "outputs": [
    {
     "name": "stdout",
     "output_type": "stream",
     "text": [
      "Suite\n"
     ]
    }
   ],
   "source": [
    "import numpy as np\n",
    "if np.argmax(predictions) == 0:\n",
    "    print(\"Suite\")\n",
    "else:\n",
    "    print(\"Pas la suite\")"
   ]
  }
 ],
 "metadata": {
  "kernelspec": {
   "display_name": "Python 3",
   "language": "python",
   "name": "python3"
  },
  "language_info": {
   "codemirror_mode": {
    "name": "ipython",
    "version": 3
   },
   "file_extension": ".py",
   "mimetype": "text/x-python",
   "name": "python",
   "nbconvert_exporter": "python",
   "pygments_lexer": "ipython3",
   "version": "3.11.5"
  }
 },
 "nbformat": 4,
 "nbformat_minor": 2
}
